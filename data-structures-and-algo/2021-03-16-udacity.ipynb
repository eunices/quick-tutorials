{
 "cells": [
  {
   "cell_type": "markdown",
   "id": "senior-secondary",
   "metadata": {},
   "source": [
    "# Popular algorithms"
   ]
  },
  {
   "cell_type": "markdown",
   "id": "listed-thompson",
   "metadata": {},
   "source": [
    "## Shorted path problem\n",
    "\n",
    "- shorted path in a graph\n",
    "- can be weighted \n",
    "- breadth first search"
   ]
  },
  {
   "cell_type": "markdown",
   "id": "ignored-guess",
   "metadata": {},
   "source": [
    "## Dijkstra's algorithms\n",
    "\n",
    "- weighted, undirected graphs\n",
    "- shortest distance from one node to another\n",
    "- min priority queue\n",
    "- greedy algorithm ('what's best at the moment')\n",
    "- many optimisations. Worse case can be O(|V|^2). With optimisations could be O(|E| + |V|log(|V|))"
   ]
  },
  {
   "cell_type": "markdown",
   "id": "front-yorkshire",
   "metadata": {},
   "source": [
    "## Knapsack problem\n",
    "\n",
    "- filling up knapsack with highest value given a weight and value for each item\n",
    "- 0 or 1 (all or nothing)\n",
    "- O(log(2^N)) in the worse case using brute force which is worse off than polynomials!\n",
    "\n",
    "### Faster algorithm for knapsack problem\n",
    "\n",
    "- see video"
   ]
  },
  {
   "cell_type": "markdown",
   "id": "global-queue",
   "metadata": {},
   "source": [
    "## Dynamic programming \n",
    "\n",
    "- subproblem\n",
    "- storing to lookup table"
   ]
  },
  {
   "cell_type": "markdown",
   "id": "daily-still",
   "metadata": {},
   "source": [
    "## Travelling salesman problem \n",
    "\n",
    "- NP hard (polynomial time)\n",
    "\n",
    "### Exact algorithm\n",
    "\n",
    "- Brute force\n",
    "- Factorial time\n",
    "\n",
    "\n",
    "### Approximation algorithm\n",
    "\n",
    "- Christofides algorithm\n"
   ]
  },
  {
   "cell_type": "code",
   "execution_count": null,
   "id": "restricted-testimony",
   "metadata": {},
   "outputs": [],
   "source": []
  }
 ],
 "metadata": {
  "kernelspec": {
   "display_name": "Python 3",
   "language": "python",
   "name": "python3"
  },
  "language_info": {
   "codemirror_mode": {
    "name": "ipython",
    "version": 3
   },
   "file_extension": ".py",
   "mimetype": "text/x-python",
   "name": "python",
   "nbconvert_exporter": "python",
   "pygments_lexer": "ipython3",
   "version": "3.7.9"
  }
 },
 "nbformat": 4,
 "nbformat_minor": 5
}
